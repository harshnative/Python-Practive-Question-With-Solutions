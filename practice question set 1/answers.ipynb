{
 "cells": [
  {
   "cell_type": "markdown",
   "metadata": {},
   "source": [
    "# 1. Write a Python program to test whether a passed letter is a vowel or not."
   ]
  },
  {
   "cell_type": "code",
   "execution_count": 1,
   "metadata": {},
   "outputs": [
    {
     "name": "stdout",
     "output_type": "stream",
     "text": [
      "Enter a letter : a\n",
      "its a vowel\n"
     ]
    }
   ],
   "source": [
    "letter = input(\"Enter a letter : \")\n",
    "\n",
    "vowels = [\"a\" , \"e\" , \"i\" , \"o\" , \"u\"]\n",
    "\n",
    "if(letter in vowels):\n",
    "    print(\"its a vowel\")\n",
    "else:\n",
    "    print(\"its not a vowel\")"
   ]
  },
  {
   "cell_type": "markdown",
   "metadata": {},
   "source": [
    "</br>"
   ]
  },
  {
   "cell_type": "markdown",
   "metadata": {},
   "source": [
    "</br>"
   ]
  },
  {
   "cell_type": "markdown",
   "metadata": {},
   "source": [
    "</br>"
   ]
  },
  {
   "cell_type": "markdown",
   "metadata": {},
   "source": [
    "</br>"
   ]
  },
  {
   "cell_type": "markdown",
   "metadata": {},
   "source": [
    "# 2. Write a Python program to print out a set containing all the colors from color_list_1 which are not present in color_list_2.\n",
    "\n",
    "color_list_1 = set([\"White\", \"Black\", \"Red\"])\n",
    "\n",
    "</br>\n",
    "</br>\n",
    "</br>\n",
    "\n",
    "color_list_2 = set([\"Red\", \"Green\"])"
   ]
  },
  {
   "cell_type": "code",
   "execution_count": 3,
   "metadata": {},
   "outputs": [
    {
     "name": "stdout",
     "output_type": "stream",
     "text": [
      "{'Black', 'White'}\n"
     ]
    }
   ],
   "source": [
    "color_list_1 = set([\"White\", \"Black\", \"Red\"])\n",
    "color_list_2 = set([\"Red\", \"Green\"])\n",
    "\n",
    "print(color_list_1.difference(color_list_2))"
   ]
  },
  {
   "cell_type": "markdown",
   "metadata": {},
   "source": [
    "</br>"
   ]
  },
  {
   "cell_type": "markdown",
   "metadata": {},
   "source": [
    "</br>"
   ]
  },
  {
   "cell_type": "markdown",
   "metadata": {},
   "source": [
    "</br>"
   ]
  },
  {
   "cell_type": "markdown",
   "metadata": {},
   "source": [
    "</br>"
   ]
  },
  {
   "cell_type": "markdown",
   "metadata": {},
   "source": [
    "</br>"
   ]
  },
  {
   "cell_type": "markdown",
   "metadata": {},
   "source": [
    "# 3. Write a Python program to solve (x + y) * (x + y)."
   ]
  },
  {
   "cell_type": "code",
   "execution_count": 4,
   "metadata": {},
   "outputs": [
    {
     "name": "stdout",
     "output_type": "stream",
     "text": [
      "x : 10 \n",
      "y : 20\n",
      "900\n"
     ]
    }
   ],
   "source": [
    "x = int(input(\"x : \"))\n",
    "y = int(input(\"y : \"))\n",
    "\n",
    "z = (x + y) * (x + y)\n",
    "\n",
    "print(z)"
   ]
  },
  {
   "cell_type": "markdown",
   "metadata": {},
   "source": [
    "</br>"
   ]
  },
  {
   "cell_type": "markdown",
   "metadata": {},
   "source": [
    "</br>"
   ]
  },
  {
   "cell_type": "markdown",
   "metadata": {},
   "source": [
    "</br>"
   ]
  },
  {
   "cell_type": "markdown",
   "metadata": {},
   "source": [
    "</br>"
   ]
  },
  {
   "cell_type": "markdown",
   "metadata": {},
   "source": [
    "</br>"
   ]
  },
  {
   "cell_type": "markdown",
   "metadata": {},
   "source": [
    "# 4. Write a Python program to calculate the sum of the digits in an integer."
   ]
  },
  {
   "cell_type": "code",
   "execution_count": 5,
   "metadata": {},
   "outputs": [
    {
     "name": "stdout",
     "output_type": "stream",
     "text": [
      "Enter a integer : 123\n",
      "6\n"
     ]
    }
   ],
   "source": [
    "value = int(input(\"Enter a integer : \"))\n",
    "\n",
    "sum = 0\n",
    "for i in str(value):\n",
    "    sum = sum + int(i)\n",
    "    \n",
    "print(sum)\n",
    "    "
   ]
  },
  {
   "cell_type": "markdown",
   "metadata": {},
   "source": [
    "</br>"
   ]
  },
  {
   "cell_type": "markdown",
   "metadata": {},
   "source": [
    "</br>"
   ]
  },
  {
   "cell_type": "markdown",
   "metadata": {},
   "source": [
    "</br>"
   ]
  },
  {
   "cell_type": "markdown",
   "metadata": {},
   "source": [
    "</br>"
   ]
  },
  {
   "cell_type": "markdown",
   "metadata": {},
   "source": [
    "</br>"
   ]
  },
  {
   "cell_type": "markdown",
   "metadata": {},
   "source": [
    "</br>"
   ]
  },
  {
   "cell_type": "markdown",
   "metadata": {},
   "source": [
    "# 5. Write a Python program to calculate the length of a string."
   ]
  },
  {
   "cell_type": "code",
   "execution_count": 6,
   "metadata": {},
   "outputs": [
    {
     "name": "stdout",
     "output_type": "stream",
     "text": [
      "Enter a String : harsh\n",
      "Length  =  5\n"
     ]
    }
   ],
   "source": [
    "myString = input(\"Enter a String : \")\n",
    "print(\"Length  = \" , len(myString))"
   ]
  },
  {
   "cell_type": "markdown",
   "metadata": {},
   "source": [
    "</br>"
   ]
  },
  {
   "cell_type": "markdown",
   "metadata": {},
   "source": [
    "</br>"
   ]
  },
  {
   "cell_type": "markdown",
   "metadata": {},
   "source": [
    "</br>"
   ]
  },
  {
   "cell_type": "markdown",
   "metadata": {},
   "source": [
    "</br>"
   ]
  },
  {
   "cell_type": "markdown",
   "metadata": {},
   "source": [
    "</br>"
   ]
  },
  {
   "cell_type": "markdown",
   "metadata": {},
   "source": [
    "</br>"
   ]
  },
  {
   "cell_type": "markdown",
   "metadata": {},
   "source": [
    "</br>"
   ]
  },
  {
   "cell_type": "markdown",
   "metadata": {},
   "source": [
    "# 6. Write a Python program to get a single string from two given strings, separated by a space and swap the first two characters of each string.\n",
    "\n",
    "Sample String : 'abc', 'xyz'\n",
    "\n",
    "Expected Result : 'xyc abz'"
   ]
  },
  {
   "cell_type": "code",
   "execution_count": 9,
   "metadata": {},
   "outputs": [
    {
     "name": "stdout",
     "output_type": "stream",
     "text": [
      "String 1 : harsh\n",
      "String 2 : native\n",
      "narsh  hative\n"
     ]
    }
   ],
   "source": [
    "string1 = input(\"String 1 : \")\n",
    "string2 = input(\"String 2 : \")\n",
    "\n",
    "def mixChar(string1 , string2 , index = 0):\n",
    "    newString1 = string1[:index] + string2[index] + string1[index+1: ]\n",
    "    newString2 = string2[:index] + string1[index] + string2[index+1: ]\n",
    "    \n",
    "    return newString1 , newString2\n",
    "\n",
    "string1 , string2 = mixChar(string1 , string2)\n",
    "\n",
    "print(string1 + \" \" , string2)"
   ]
  },
  {
   "cell_type": "markdown",
   "metadata": {},
   "source": [
    "</br>"
   ]
  },
  {
   "cell_type": "markdown",
   "metadata": {},
   "source": [
    "</br>"
   ]
  },
  {
   "cell_type": "markdown",
   "metadata": {},
   "source": [
    "</br>"
   ]
  },
  {
   "cell_type": "markdown",
   "metadata": {},
   "source": [
    "</br>"
   ]
  },
  {
   "cell_type": "markdown",
   "metadata": {},
   "source": [
    "</br>"
   ]
  },
  {
   "cell_type": "markdown",
   "metadata": {},
   "source": [
    "# 7. Write a Python program to remove the n th index character from a nonempty string."
   ]
  },
  {
   "cell_type": "code",
   "execution_count": 10,
   "metadata": {},
   "outputs": [
    {
     "name": "stdout",
     "output_type": "stream",
     "text": [
      "Enter string : harsh\n",
      "Enter n : 2\n",
      "hash\n"
     ]
    }
   ],
   "source": [
    "string = input(\"Enter string : \")\n",
    "n = int(input(\"Enter n : \"))\n",
    "\n",
    "string = string[:n] + string[n+1:]\n",
    "\n",
    "print(string)"
   ]
  },
  {
   "cell_type": "markdown",
   "metadata": {},
   "source": [
    "</br>"
   ]
  },
  {
   "cell_type": "markdown",
   "metadata": {},
   "source": [
    "</br>"
   ]
  },
  {
   "cell_type": "markdown",
   "metadata": {},
   "source": [
    "</br>"
   ]
  },
  {
   "cell_type": "markdown",
   "metadata": {},
   "source": [
    "</br>"
   ]
  },
  {
   "cell_type": "markdown",
   "metadata": {},
   "source": [
    "</br>"
   ]
  },
  {
   "cell_type": "markdown",
   "metadata": {},
   "source": [
    "</br>"
   ]
  },
  {
   "cell_type": "markdown",
   "metadata": {},
   "source": [
    "# 8. Write a Python script that takes input from the user and displays that input back in upper and lower cases."
   ]
  },
  {
   "cell_type": "code",
   "execution_count": 11,
   "metadata": {},
   "outputs": [
    {
     "name": "stdout",
     "output_type": "stream",
     "text": [
      "Enter some string : harsh\n",
      "lowercased =  harsh\n",
      "uppercased =  HARSH\n"
     ]
    }
   ],
   "source": [
    "string = input(\"Enter some string : \")\n",
    "\n",
    "print(\"lowercased = \" , string.lower())\n",
    "print(\"uppercased = \" , string.upper())"
   ]
  },
  {
   "cell_type": "markdown",
   "metadata": {},
   "source": [
    "</br>"
   ]
  },
  {
   "cell_type": "markdown",
   "metadata": {},
   "source": [
    "</br>"
   ]
  },
  {
   "cell_type": "markdown",
   "metadata": {},
   "source": [
    "</br>"
   ]
  },
  {
   "cell_type": "markdown",
   "metadata": {},
   "source": [
    "</br>"
   ]
  },
  {
   "cell_type": "markdown",
   "metadata": {},
   "source": [
    "</br>"
   ]
  },
  {
   "cell_type": "markdown",
   "metadata": {},
   "source": [
    "</br>"
   ]
  },
  {
   "cell_type": "markdown",
   "metadata": {},
   "source": [
    "# 9. Write a Python function to insert a string in the middle of a string."
   ]
  },
  {
   "cell_type": "code",
   "execution_count": 13,
   "metadata": {},
   "outputs": [
    {
     "name": "stdout",
     "output_type": "stream",
     "text": [
      "Enter some string : harsh\n",
      "Enter some string to insert : don\n",
      "hadonrsh\n"
     ]
    }
   ],
   "source": [
    "string = input(\"Enter some string : \")\n",
    "\n",
    "toInsert = input(\"Enter some string to insert : \")\n",
    "\n",
    "\n",
    "# returns only lower integer\n",
    "middle = len(string) // 2\n",
    "\n",
    "string = string[:middle] + toInsert + string[middle:]\n",
    "\n",
    "print(string)"
   ]
  },
  {
   "cell_type": "markdown",
   "metadata": {},
   "source": [
    "</br>"
   ]
  },
  {
   "cell_type": "markdown",
   "metadata": {},
   "source": [
    "</br>"
   ]
  },
  {
   "cell_type": "markdown",
   "metadata": {},
   "source": [
    "</br>"
   ]
  },
  {
   "cell_type": "markdown",
   "metadata": {},
   "source": [
    "</br>"
   ]
  },
  {
   "cell_type": "markdown",
   "metadata": {},
   "source": [
    "</br>"
   ]
  },
  {
   "cell_type": "markdown",
   "metadata": {},
   "source": [
    "</br>"
   ]
  },
  {
   "cell_type": "markdown",
   "metadata": {},
   "source": [
    "</br>"
   ]
  },
  {
   "cell_type": "markdown",
   "metadata": {},
   "source": [
    "</br>"
   ]
  },
  {
   "cell_type": "markdown",
   "metadata": {},
   "source": [
    "# 10. Write a Python program to print the floating numbers upto 2 decimal places with a sign."
   ]
  },
  {
   "cell_type": "code",
   "execution_count": 16,
   "metadata": {},
   "outputs": [
    {
     "name": "stdout",
     "output_type": "stream",
     "text": [
      "Enter number 1 : 10.24986\n",
      "Enter number 2 : -12.156413\n",
      "Formatted Number with sign: +10.25\n",
      "Formatted Number with sign: -12.16\n"
     ]
    }
   ],
   "source": [
    "number1 = float(input(\"Enter number 1 : \"))\n",
    "number2 = float(input(\"Enter number 2 : \"))\n",
    "\n",
    "print(\"Formatted Number with sign: \" + \"{:+.2f}\".format(number1))\n",
    "print(\"Formatted Number with sign: \" + \"{:+.2f}\".format(number2))"
   ]
  },
  {
   "cell_type": "code",
   "execution_count": 21,
   "metadata": {},
   "outputs": [
    {
     "name": "stdout",
     "output_type": "stream",
     "text": [
      "Enter number 1 : 10.214654\n",
      "Enter number 2 : -12.14\n",
      "Formatted Number with sign: +10.21\n",
      "Formatted Number with sign: -12.14\n"
     ]
    }
   ],
   "source": [
    "# or\n",
    "number1 = float(input(\"Enter number 1 : \"))\n",
    "number2 = float(input(\"Enter number 2 : \"))\n",
    "\n",
    "def formatNumber(number):\n",
    "    number = round(number , 2)\n",
    "    \n",
    "    if(number >= 0):\n",
    "        number = \"+\" + str(number)\n",
    "    else:\n",
    "        # - sign is auto added\n",
    "        number = str(number)\n",
    "        \n",
    "    return number\n",
    "        \n",
    "print(\"Formatted Number with sign: {}\".format(formatNumber(number1)))\n",
    "print(\"Formatted Number with sign: {}\".format(formatNumber(number2)))"
   ]
  }
 ],
 "metadata": {
  "kernelspec": {
   "display_name": "Python 3",
   "language": "python",
   "name": "python3"
  },
  "language_info": {
   "codemirror_mode": {
    "name": "ipython",
    "version": 3
   },
   "file_extension": ".py",
   "mimetype": "text/x-python",
   "name": "python",
   "nbconvert_exporter": "python",
   "pygments_lexer": "ipython3",
   "version": "3.8.5"
  }
 },
 "nbformat": 4,
 "nbformat_minor": 4
}
