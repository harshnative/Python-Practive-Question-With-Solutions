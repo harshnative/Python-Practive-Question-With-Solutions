{
 "cells": [
  {
   "cell_type": "code",
   "execution_count": 3,
   "metadata": {},
   "outputs": [
    {
     "name": "stdout",
     "output_type": "stream",
     "text": [
      "['Hi', 'there', 'Class!']\n"
     ]
    }
   ],
   "source": [
    "s = \"Hi there Class!\"\n",
    "\n",
    "print(s.split())"
   ]
  },
  {
   "cell_type": "code",
   "execution_count": 4,
   "metadata": {},
   "outputs": [
    {
     "name": "stdout",
     "output_type": "stream",
     "text": [
      "The diameter of the earth is 12742 kilometers.\n"
     ]
    }
   ],
   "source": [
    "planet = \"earth\"\n",
    "\n",
    "diameter = 12742\n",
    "\n",
    "print(\"The diameter of the {} is {} kilometers.\".format(planet , diameter))"
   ]
  },
  {
   "cell_type": "code",
   "execution_count": 5,
   "metadata": {},
   "outputs": [
    {
     "name": "stdout",
     "output_type": "stream",
     "text": [
      "['hello']\n"
     ]
    }
   ],
   "source": [
    "lst = [1,2,[3,4],[5,[100,200,['hello']],23,11],1,7]\n",
    "\n",
    "print(lst[3][1][2])"
   ]
  },
  {
   "cell_type": "code",
   "execution_count": 8,
   "metadata": {},
   "outputs": [
    {
     "name": "stdout",
     "output_type": "stream",
     "text": [
      "hello\n"
     ]
    }
   ],
   "source": [
    "d = {'k1':[1,2,3,{'tricky':['oh','man','inception',{'target':[1,2,3,'hello']}]}]}\n",
    "\n",
    "print(d['k1'][3]['tricky'][3]['target'][3])"
   ]
  },
  {
   "cell_type": "code",
   "execution_count": 9,
   "metadata": {},
   "outputs": [
    {
     "name": "stdout",
     "output_type": "stream",
     "text": [
      "domain.com\n"
     ]
    }
   ],
   "source": [
    "string = \"user@domain.com\"\n",
    "\n",
    "def grabDomain(string):\n",
    "    myString = \"\"\n",
    "    found = False\n",
    "    for i in string:\n",
    "        if(found):\n",
    "            myString = myString + i\n",
    "            \n",
    "        if(i == \"@\"):\n",
    "            \n",
    "            found = True\n",
    "            \n",
    "    return myString\n",
    "\n",
    "print(grabDomain(string))\n",
    "        "
   ]
  },
  {
   "cell_type": "code",
   "execution_count": 11,
   "metadata": {},
   "outputs": [
    {
     "name": "stdout",
     "output_type": "stream",
     "text": [
      "True\n"
     ]
    }
   ],
   "source": [
    "def countFound(string , searchString):\n",
    "    \n",
    "    count = 0\n",
    "    \n",
    "    for i in range(len(string)):\n",
    "        if(string[i:i+len(searchString)] == searchString):\n",
    "            count = count + 1\n",
    "            \n",
    "    return count\n",
    "\n",
    "\n",
    "\n",
    "def foundTrueFalse(string , searchString):\n",
    "    \n",
    "    count = countFound(string , searchString)\n",
    "    \n",
    "    if(count > 0):\n",
    "        return True\n",
    "    else:\n",
    "        return False\n",
    "\n",
    "\n",
    "print(foundTrueFalse(\"cksdog nkjsbak dog\" , \"dog\"))\n",
    "\n",
    "    "
   ]
  },
  {
   "cell_type": "code",
   "execution_count": 12,
   "metadata": {},
   "outputs": [
    {
     "name": "stdout",
     "output_type": "stream",
     "text": [
      "2\n"
     ]
    }
   ],
   "source": [
    "def countFound(string , searchString):\n",
    "    \n",
    "    count = 0\n",
    "    \n",
    "    for i in range(len(string)):\n",
    "        if(string[i:i+len(searchString)] == searchString):\n",
    "            count = count + 1\n",
    "            \n",
    "    return count\n",
    "\n",
    "\n",
    "print(countFound(\"cksdog nkjsbak dog\" , \"dog\"))\n",
    "\n",
    "    "
   ]
  },
  {
   "cell_type": "code",
   "execution_count": 13,
   "metadata": {},
   "outputs": [
    {
     "name": "stdout",
     "output_type": "stream",
     "text": [
      "['soup', 'salad']\n"
     ]
    }
   ],
   "source": [
    "seq = ['soup','dog','salad','cat','great']\n",
    "\n",
    "print(list(filter(lambda word:word[0] == 's' , seq)))"
   ]
  },
  {
   "cell_type": "code",
   "execution_count": 16,
   "metadata": {},
   "outputs": [
    {
     "name": "stdout",
     "output_type": "stream",
     "text": [
      "no challan\n",
      "small challan\n"
     ]
    }
   ],
   "source": [
    "def caugthSpeed(speed):\n",
    "    if(speed <= 60):\n",
    "        return \"no challan\"\n",
    "    elif(speed <= 80):\n",
    "        return \"small challan\"\n",
    "    elif(speed > 80):\n",
    "        return \"big challan\"\n",
    "    \n",
    "print(caugthSpeed(60))\n",
    "print(caugthSpeed(80))"
   ]
  },
  {
   "cell_type": "code",
   "execution_count": 17,
   "metadata": {},
   "outputs": [
    {
     "name": "stdout",
     "output_type": "stream",
     "text": [
      "['My', 'name', 'is', 'Shelly']\n"
     ]
    }
   ],
   "source": [
    "list1 = [\"M\", \"na\", \"i\", \"She\"]\n",
    "list2 = [\"y\", \"me\", \"s\", \"lly\"]\n",
    "\n",
    "resultList = []\n",
    "\n",
    "for i,j in zip(list1 , list2):\n",
    "    resultList.append(i + j)\n",
    "    \n",
    "print(resultList)"
   ]
  },
  {
   "cell_type": "code",
   "execution_count": 18,
   "metadata": {},
   "outputs": [
    {
     "name": "stdout",
     "output_type": "stream",
     "text": [
      "['Hello Dear', 'Hello Sir', 'take Dear', 'take Sir']\n"
     ]
    }
   ],
   "source": [
    "list1 = [\"Hello \", \"take \"]\n",
    "list2 = [\"Dear\", \"Sir\"]\n",
    "\n",
    "resultList = []\n",
    "\n",
    "for i in list1:\n",
    "    for j in list2:\n",
    "        resultList.append(i + j)\n",
    "        \n",
    "        \n",
    "print(resultList)\n",
    "    "
   ]
  },
  {
   "cell_type": "code",
   "execution_count": 23,
   "metadata": {},
   "outputs": [
    {
     "name": "stdout",
     "output_type": "stream",
     "text": [
      "[10, 20, [300, 400, [5000, 6000, 7000], 500], 30, 40]\n"
     ]
    }
   ],
   "source": [
    "list1 = [10, 20, [300, 400, [5000, 6000], 500], 30, 40]\n",
    "list1[2][2].insert(2 , 7000)\n",
    "\n",
    "\n",
    "print(list1)"
   ]
  },
  {
   "cell_type": "code",
   "execution_count": 30,
   "metadata": {},
   "outputs": [
    {
     "name": "stdout",
     "output_type": "stream",
     "text": [
      "[5, 15, 25, 50]\n"
     ]
    }
   ],
   "source": [
    "list1 = [5, 20, 15, 20, 25, 50, 20]\n",
    "\n",
    "\n",
    "for i in list1:\n",
    "    if(i == 20):\n",
    "        list1.remove(20)\n",
    "        \n",
    "        \n",
    "print(list1)"
   ]
  },
  {
   "cell_type": "code",
   "execution_count": 31,
   "metadata": {},
   "outputs": [
    {
     "name": "stdout",
     "output_type": "stream",
     "text": [
      "True\n"
     ]
    }
   ],
   "source": [
    "d = {'a': 100, 'b': 200, 'c': 300}\n",
    "\n",
    "\n",
    "for i,j in d.items():\n",
    "    if(j == 200):\n",
    "        print(True)\n",
    "        \n",
    "        "
   ]
  },
  {
   "cell_type": "code",
   "execution_count": 33,
   "metadata": {},
   "outputs": [
    {
     "name": "stdout",
     "output_type": "stream",
     "text": [
      "Enter the value of n : 4\n",
      "2468\n"
     ]
    }
   ],
   "source": [
    "# Find the sum of the series 2 +22 + 222 + 2222 + .. n terms\n",
    "\n",
    "\n",
    "n = int(input(\"Enter the value of n : \"))\n",
    "\n",
    "sum = 0\n",
    "\n",
    "for i in range(n):\n",
    "    \n",
    "    number  = \"\"\n",
    "    for j in range(i+1):\n",
    "        number = number + \"2\"\n",
    "        \n",
    "    number  = int(number)\n",
    "    \n",
    "    sum = sum + number\n",
    "    \n",
    "print(sum)"
   ]
  },
  {
   "cell_type": "code",
   "execution_count": null,
   "metadata": {},
   "outputs": [],
   "source": []
  }
 ],
 "metadata": {
  "kernelspec": {
   "display_name": "Python 3",
   "language": "python",
   "name": "python3"
  },
  "language_info": {
   "codemirror_mode": {
    "name": "ipython",
    "version": 3
   },
   "file_extension": ".py",
   "mimetype": "text/x-python",
   "name": "python",
   "nbconvert_exporter": "python",
   "pygments_lexer": "ipython3",
   "version": "3.8.5"
  }
 },
 "nbformat": 4,
 "nbformat_minor": 4
}
