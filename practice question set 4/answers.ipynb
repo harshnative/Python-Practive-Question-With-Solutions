{
 "cells": [
  {
   "cell_type": "code",
   "execution_count": 1,
   "source": [
    "import random\n",
    "\n",
    "\n",
    "# generate a random list of size 100\n",
    "myList = []\n",
    "\n",
    "for i in range(100):\n",
    "    myList.append(random.randint(0,100))\n",
    "\n",
    "\n",
    "# print sum using in built function\n",
    "print(sum(myList))\n",
    "\n",
    "# normal method\n",
    "summ = 0\n",
    "\n",
    "for i in myList:\n",
    "    summ = summ + i\n",
    "\n",
    "print(summ)\n"
   ],
   "outputs": [
    {
     "output_type": "stream",
     "name": "stdout",
     "text": [
      "4597\n",
      "4597\n"
     ]
    }
   ],
   "metadata": {}
  },
  {
   "cell_type": "code",
   "execution_count": 2,
   "source": [
    "# largest number from the list\n",
    "\n",
    "# normal method\n",
    "print(max(myList))\n",
    "\n",
    "largest = myList[0]\n",
    "\n",
    "for i in myList:\n",
    "    if(i > largest):\n",
    "        largest = i\n",
    "\n",
    "print(largest)"
   ],
   "outputs": [
    {
     "output_type": "stream",
     "name": "stdout",
     "text": [
      "100\n",
      "100\n"
     ]
    }
   ],
   "metadata": {}
  },
  {
   "cell_type": "code",
   "execution_count": 3,
   "source": [
    "tupleList = [('a' , 1) , ('b' , 4) , ('c' , 3)]\n",
    "\n",
    "# sort list according to last element\n",
    "sortedList = sorted(tupleList , key=lambda x:x[-1])\n",
    "\n",
    "print(sortedList)"
   ],
   "outputs": [
    {
     "output_type": "stream",
     "name": "stdout",
     "text": [
      "[('a', 1), ('c', 3), ('b', 4)]\n"
     ]
    }
   ],
   "metadata": {}
  },
  {
   "cell_type": "code",
   "execution_count": 4,
   "source": [
    "# remove duplicates from list\n",
    "\n",
    "# using sets\n",
    "mySet = list(set(myList))\n",
    "\n",
    "print(mySet)\n",
    "\n",
    "\n",
    "# else\n",
    "newList = []\n",
    "\n",
    "for i in myList:\n",
    "    if(i not in newList):\n",
    "        newList.append(i)\n",
    "\n",
    "print(newList)\n",
    "\n"
   ],
   "outputs": [
    {
     "output_type": "stream",
     "name": "stdout",
     "text": [
      "[1, 3, 4, 5, 6, 8, 11, 12, 13, 15, 17, 18, 19, 21, 22, 23, 24, 27, 29, 30, 31, 32, 33, 34, 35, 36, 37, 39, 40, 41, 42, 46, 50, 51, 53, 54, 55, 57, 60, 63, 67, 69, 71, 72, 73, 75, 76, 79, 81, 82, 83, 87, 90, 91, 92, 93, 95, 96, 98, 100]\n",
      "[32, 22, 27, 29, 50, 67, 5, 41, 33, 100, 46, 17, 87, 91, 21, 13, 19, 8, 55, 36, 35, 37, 60, 3, 63, 90, 95, 42, 11, 54, 75, 83, 51, 6, 98, 40, 82, 93, 79, 92, 76, 12, 23, 72, 73, 4, 69, 1, 15, 18, 71, 39, 81, 53, 96, 34, 31, 24, 30, 57]\n"
     ]
    }
   ],
   "metadata": {}
  },
  {
   "cell_type": "code",
   "execution_count": 5,
   "source": [
    "wordList = [\"hello\" , \"don\" , \"john\" , \"harsh native\" , \"king\" , \"oops\"]\n",
    "\n",
    "n = 3\n",
    "\n",
    "result = []\n",
    "\n",
    "for i in wordList:\n",
    "    if(len(i) > n):\n",
    "        result.append(i)\n",
    "\n",
    "print(result)"
   ],
   "outputs": [
    {
     "output_type": "stream",
     "name": "stdout",
     "text": [
      "['hello', 'john', 'harsh native', 'king', 'oops']\n"
     ]
    }
   ],
   "metadata": {}
  },
  {
   "cell_type": "code",
   "execution_count": 7,
   "source": [
    "# difference btw two list\n",
    "\n",
    "\n",
    "list1 = [1,2,3,4,5,7]\n",
    "list2 = [2,3,7,8,9]\n",
    "\n",
    "# using sets\n",
    "print(list(set(list1) - set(list2)))\n",
    "\n",
    "\n",
    "# without using sets\n",
    "\n",
    "result = []\n",
    "\n",
    "for i in list1:\n",
    "    if(i not in list2):\n",
    "        result.append(i)\n",
    "\n",
    "print(result)"
   ],
   "outputs": [
    {
     "output_type": "stream",
     "name": "stdout",
     "text": [
      "[1, 4, 5]\n",
      "[1, 4, 5]\n"
     ]
    }
   ],
   "metadata": {}
  },
  {
   "cell_type": "code",
   "execution_count": 8,
   "source": [
    "myDict = {\"one\" : 1 , \"two\" : 2 , \"three\" : 3}\n",
    "\n",
    "print(myDict)\n",
    "\n",
    "# adding key = four\n",
    "myDict[\"four\"] = 4\n",
    "\n",
    "print(myDict)"
   ],
   "outputs": [
    {
     "output_type": "stream",
     "name": "stdout",
     "text": [
      "{'one': 1, 'two': 2, 'three': 3}\n",
      "{'one': 1, 'two': 2, 'three': 3, 'four': 4}\n"
     ]
    }
   ],
   "metadata": {}
  },
  {
   "cell_type": "code",
   "execution_count": 9,
   "source": [
    "dic1={1:10, 2:20}\n",
    "dic2={3:30, 4:40}\n",
    "dic3={5:50,6:60}\n",
    "\n",
    "dic1.update(dic2)\n",
    "dic1.update(dic3)\n",
    "\n",
    "print(dic1)"
   ],
   "outputs": [
    {
     "output_type": "stream",
     "name": "stdout",
     "text": [
      "{1: 10, 2: 20, 3: 30, 4: 40, 5: 50, 6: 60}\n"
     ]
    }
   ],
   "metadata": {}
  },
  {
   "cell_type": "code",
   "execution_count": 10,
   "source": [
    "# remove dic1 key - 6\n",
    "\n",
    "del dic1[6]\n",
    "\n",
    "print(dic1)"
   ],
   "outputs": [
    {
     "output_type": "stream",
     "name": "stdout",
     "text": [
      "{1: 10, 2: 20, 3: 30, 4: 40, 5: 50}\n"
     ]
    }
   ],
   "metadata": {}
  },
  {
   "cell_type": "code",
   "execution_count": 12,
   "source": [
    "result = 1\n",
    "\n",
    "for i,j in dic1.items():\n",
    "    result = result * i * j\n",
    "\n",
    "print(result)"
   ],
   "outputs": [
    {
     "output_type": "stream",
     "name": "stdout",
     "text": [
      "1440000000\n"
     ]
    }
   ],
   "metadata": {}
  },
  {
   "cell_type": "code",
   "execution_count": null,
   "source": [],
   "outputs": [],
   "metadata": {}
  }
 ],
 "metadata": {
  "orig_nbformat": 4,
  "language_info": {
   "name": "python",
   "version": "3.8.10",
   "mimetype": "text/x-python",
   "codemirror_mode": {
    "name": "ipython",
    "version": 3
   },
   "pygments_lexer": "ipython3",
   "nbconvert_exporter": "python",
   "file_extension": ".py"
  },
  "kernelspec": {
   "name": "python3",
   "display_name": "Python 3.8.10 64-bit ('myvirtual': venv)"
  },
  "interpreter": {
   "hash": "9f795af8efb240baf47242286ed9d4e0e32afe2b1a221fc5d091a773c3e089dd"
  }
 },
 "nbformat": 4,
 "nbformat_minor": 2
}