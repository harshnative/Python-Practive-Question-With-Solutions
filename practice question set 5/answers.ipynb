{
 "cells": [
  {
   "cell_type": "code",
   "execution_count": 1,
   "source": [
    "myTuple = (\"hello\" , 123 , 123.45 , b\"hello\")\n",
    "\n",
    "print(myTuple)"
   ],
   "outputs": [
    {
     "output_type": "stream",
     "name": "stdout",
     "text": [
      "('hello', 123, 123.45, b'hello')\n"
     ]
    }
   ],
   "metadata": {}
  },
  {
   "cell_type": "code",
   "execution_count": 2,
   "source": [
    "# tuple is a immutable object , you need to specific all the elements at the creation time only"
   ],
   "outputs": [],
   "metadata": {}
  },
  {
   "cell_type": "code",
   "execution_count": 3,
   "source": [
    "print(str(myTuple))"
   ],
   "outputs": [
    {
     "output_type": "stream",
     "name": "stdout",
     "text": [
      "('hello', 123, 123.45, b'hello')\n"
     ]
    }
   ],
   "metadata": {}
  },
  {
   "cell_type": "code",
   "execution_count": 4,
   "source": [
    "myTuple = (1,2,3,4,5,6,7,8,9)\n",
    "\n",
    "# 4th element from front\n",
    "print(myTuple[4])\n",
    "\n",
    "# 4th element from last \n",
    "print(myTuple[-4])"
   ],
   "outputs": [
    {
     "output_type": "stream",
     "name": "stdout",
     "text": [
      "5\n",
      "6\n"
     ]
    }
   ],
   "metadata": {}
  },
  {
   "cell_type": "code",
   "execution_count": 6,
   "source": [
    "# repeated items in tuple\n",
    "myTuple = (1,2,4,5,4,6,2,1,35,8)\n",
    "\n",
    "result = []\n",
    "\n",
    "for i in set(myTuple):\n",
    "    iCount = myTuple.count(i)\n",
    "\n",
    "    if(iCount > 1):\n",
    "        result.append([i , iCount])\n",
    "\n",
    "print(result)"
   ],
   "outputs": [
    {
     "output_type": "stream",
     "name": "stdout",
     "text": [
      "[[1, 2], [2, 2], [4, 2]]\n"
     ]
    }
   ],
   "metadata": {}
  },
  {
   "cell_type": "code",
   "execution_count": 12,
   "source": [
    "myTuple = (1,2,4,5,4,6,2,1,35,8)\n",
    "\n",
    "\n",
    "def searchInTuple(toSearch):\n",
    "\n",
    "    # using index method\n",
    "    try:\n",
    "        indexOfElement = myTuple.index(toSearch)\n",
    "        print(\"element found at index =\" , indexOfElement)\n",
    "    except ValueError:\n",
    "        print(\"element not found\")\n",
    "\n",
    "\n",
    "    print('\\n-------------------------\\n')\n",
    "\n",
    "    # using normal searching\n",
    "    found = False\n",
    "\n",
    "    for i,j in enumerate(myTuple):\n",
    "        if(j == toSearch):\n",
    "            found = True\n",
    "            print(\"element found at index =\" , i)\n",
    "\n",
    "    if(not(found)):\n",
    "        print(\"element not found\")\n",
    "\n",
    "\n",
    "searchInTuple(4)\n",
    "print(\"\\n\\n________________________\\n\\n\")\n",
    "searchInTuple(7)    "
   ],
   "outputs": [
    {
     "output_type": "stream",
     "name": "stdout",
     "text": [
      "element found at index = 2\n",
      "\n",
      "-------------------------\n",
      "\n",
      "element found at index = 2\n",
      "element found at index = 4\n",
      "\n",
      "\n",
      "________________________\n",
      "\n",
      "\n",
      "element not found\n",
      "\n",
      "-------------------------\n",
      "\n",
      "element not found\n"
     ]
    }
   ],
   "metadata": {}
  },
  {
   "cell_type": "code",
   "execution_count": 14,
   "source": [
    "myList = [1,2,4,5,54968,415,13,45,6]\n",
    "\n",
    "myTuple = tuple(myList)\n",
    "\n",
    "print(myTuple)"
   ],
   "outputs": [
    {
     "output_type": "stream",
     "name": "stdout",
     "text": [
      "(1, 2, 4, 5, 54968, 415, 13, 45, 6)\n"
     ]
    }
   ],
   "metadata": {}
  },
  {
   "cell_type": "code",
   "execution_count": 15,
   "source": [
    "# 2 is inclusive and 4 is exclusive\n",
    "print(myTuple[2:4])"
   ],
   "outputs": [
    {
     "output_type": "stream",
     "name": "stdout",
     "text": [
      "(4, 5)\n"
     ]
    }
   ],
   "metadata": {}
  },
  {
   "cell_type": "code",
   "execution_count": 16,
   "source": [
    "print(len(myTuple))"
   ],
   "outputs": [
    {
     "output_type": "stream",
     "name": "stdout",
     "text": [
      "9\n"
     ]
    }
   ],
   "metadata": {}
  },
  {
   "cell_type": "code",
   "execution_count": 17,
   "source": [
    "myList = [\n",
    "    (1,2,3) , \n",
    "    (4,5,6) , \n",
    "    (7,8,9)\n",
    "]\n",
    "\n",
    "myDict = {}\n",
    "\n",
    "for i,j in enumerate(myList):\n",
    "    myDict[i] = j\n",
    "\n",
    "print(myDict)"
   ],
   "outputs": [
    {
     "output_type": "stream",
     "name": "stdout",
     "text": [
      "{0: (1, 2, 3), 1: (4, 5, 6), 2: (7, 8, 9)}\n"
     ]
    }
   ],
   "metadata": {}
  },
  {
   "cell_type": "code",
   "execution_count": null,
   "source": [],
   "outputs": [],
   "metadata": {}
  }
 ],
 "metadata": {
  "orig_nbformat": 4,
  "language_info": {
   "name": "python",
   "version": "3.8.10",
   "mimetype": "text/x-python",
   "codemirror_mode": {
    "name": "ipython",
    "version": 3
   },
   "pygments_lexer": "ipython3",
   "nbconvert_exporter": "python",
   "file_extension": ".py"
  },
  "kernelspec": {
   "name": "python3",
   "display_name": "Python 3.8.10 64-bit ('myvirtual': venv)"
  },
  "interpreter": {
   "hash": "c9b4e514b98ef05da5c4962d4dd7e7d483333cd62f75d1f050629df92413a323"
  }
 },
 "nbformat": 4,
 "nbformat_minor": 2
}